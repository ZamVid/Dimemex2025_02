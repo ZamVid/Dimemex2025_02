{
 "cells": [
  {
   "cell_type": "code",
   "execution_count": null,
   "id": "e3e870b3",
   "metadata": {},
   "outputs": [],
   "source": [
    "import pandas as pd\n",
    "import numpy as np\n",
    "import tensorflow as tf\n",
    "from sklearn.preprocessing import LabelEncoder\n",
    "import spacy"
   ]
  },
  {
   "cell_type": "code",
   "execution_count": 32,
   "id": "7ea57141",
   "metadata": {},
   "outputs": [],
   "source": [
    "nlp = spacy.load(\"es_core_news_sm\")"
   ]
  },
  {
   "cell_type": "code",
   "execution_count": 33,
   "id": "37776a19",
   "metadata": {},
   "outputs": [],
   "source": [
    "def preprocess_text(text):\n",
    "    doc = nlp(str(text).lower())\n",
    "    tokens = [token.lemma_ for token in doc if not token.is_stop and not token.is_punct]\n",
    "    return \" \".join(tokens)"
   ]
  },
  {
   "cell_type": "code",
   "execution_count": 34,
   "id": "97aee12d",
   "metadata": {},
   "outputs": [],
   "source": [
    "train_df = pd.read_csv(\"imagenes/memes_entrenamiento_etiquetados_02.csv\")\n",
    "val_df = pd.read_csv(\"imagenes/memes_validacion.csv\")"
   ]
  },
  {
   "cell_type": "code",
   "execution_count": 35,
   "id": "7a44d363",
   "metadata": {},
   "outputs": [],
   "source": [
    "train_df[\"text_input\"] = (train_df[\"text\"] + \" \" + train_df[\"description\"]).apply(preprocess_text)\n",
    "val_df[\"text_input\"] = (val_df[\"text\"] + \" \" + val_df[\"description\"]).apply(preprocess_text)\n"
   ]
  },
  {
   "cell_type": "code",
   "execution_count": 37,
   "id": "a138e20d",
   "metadata": {},
   "outputs": [],
   "source": [
    "tokenizer = tf.keras.preprocessing.text.Tokenizer(num_words=10000, oov_token=\"<OOV>\")\n",
    "tokenizer.fit_on_texts(train_df[\"text_input\"])\n",
    "\n",
    "X_train_seq = tokenizer.texts_to_sequences(train_df[\"text_input\"])\n",
    "X_val_seq = tokenizer.texts_to_sequences(val_df[\"text_input\"])"
   ]
  },
  {
   "cell_type": "code",
   "execution_count": 38,
   "id": "4a8a51af",
   "metadata": {},
   "outputs": [],
   "source": [
    "max_len = 100  # puedes ajustar según el análisis\n",
    "X_train = tf.keras.preprocessing.sequence.pad_sequences(X_train_seq, maxlen=max_len, padding='post')\n",
    "X_val = tf.keras.preprocessing.sequence.pad_sequences(X_val_seq, maxlen=max_len, padding='post')"
   ]
  },
  {
   "cell_type": "code",
   "execution_count": 39,
   "id": "244b1871",
   "metadata": {},
   "outputs": [],
   "source": [
    "label_encoder = LabelEncoder()\n",
    "y_train = label_encoder.fit_transform(train_df[\"etiqueta\"])"
   ]
  },
  {
   "cell_type": "code",
   "execution_count": 40,
   "id": "1e7257b2",
   "metadata": {},
   "outputs": [],
   "source": [
    "model = tf.keras.models.Sequential([\n",
    "    tf.keras.layers.Embedding(input_dim=10000, output_dim=128, input_length=max_len),\n",
    "    tf.keras.layers.Bidirectional(tf.keras.layers.LSTM(64, return_sequences=False)),\n",
    "    tf.keras.layers.Dropout(0.5),\n",
    "    tf.keras.layers.Dense(64, activation=\"relu\"),\n",
    "    tf.keras.layers.Dense(len(label_encoder.classes_), activation=\"softmax\")\n",
    "])\n",
    "\n",
    "model.compile(loss=\"sparse_categorical_crossentropy\", optimizer=\"adam\", metrics=[\"accuracy\"])\n"
   ]
  },
  {
   "cell_type": "code",
   "execution_count": 41,
   "id": "3af5a46c",
   "metadata": {},
   "outputs": [
    {
     "name": "stdout",
     "output_type": "stream",
     "text": [
      "Epoch 1/10\n",
      "57/57 [==============================] - 6s 52ms/step - loss: 1.2445 - accuracy: 0.6166 - val_loss: 1.1693 - val_accuracy: 0.6115\n",
      "Epoch 2/10\n",
      "57/57 [==============================] - 3s 46ms/step - loss: 1.0742 - accuracy: 0.6238 - val_loss: 1.1369 - val_accuracy: 0.6115\n",
      "Epoch 3/10\n",
      "57/57 [==============================] - 3s 60ms/step - loss: 0.7928 - accuracy: 0.6989 - val_loss: 1.2758 - val_accuracy: 0.5938\n",
      "Epoch 4/10\n",
      "57/57 [==============================] - 2s 43ms/step - loss: 0.4780 - accuracy: 0.8227 - val_loss: 1.5850 - val_accuracy: 0.5651\n",
      "Epoch 5/10\n",
      "57/57 [==============================] - 2s 43ms/step - loss: 0.3017 - accuracy: 0.8856 - val_loss: 1.7941 - val_accuracy: 0.5386\n",
      "Epoch 6/10\n",
      "57/57 [==============================] - 2s 40ms/step - loss: 0.2216 - accuracy: 0.9088 - val_loss: 2.1934 - val_accuracy: 0.5563\n",
      "Epoch 7/10\n",
      "57/57 [==============================] - 2s 39ms/step - loss: 0.1782 - accuracy: 0.9331 - val_loss: 2.8613 - val_accuracy: 0.5342\n",
      "Epoch 8/10\n",
      "57/57 [==============================] - 2s 41ms/step - loss: 0.1225 - accuracy: 0.9575 - val_loss: 3.0048 - val_accuracy: 0.5408\n",
      "Epoch 9/10\n",
      "57/57 [==============================] - 2s 40ms/step - loss: 0.0988 - accuracy: 0.9680 - val_loss: 2.6471 - val_accuracy: 0.5408\n",
      "Epoch 10/10\n",
      "57/57 [==============================] - 2s 39ms/step - loss: 0.0733 - accuracy: 0.9779 - val_loss: 2.5785 - val_accuracy: 0.5342\n"
     ]
    },
    {
     "data": {
      "text/plain": [
       "<keras.src.callbacks.History at 0x1d271272390>"
      ]
     },
     "execution_count": 41,
     "metadata": {},
     "output_type": "execute_result"
    }
   ],
   "source": [
    "model.fit(X_train, y_train, epochs=10, batch_size=32, validation_split=0.2)"
   ]
  },
  {
   "cell_type": "code",
   "execution_count": 42,
   "id": "a779feac",
   "metadata": {},
   "outputs": [
    {
     "name": "stdout",
     "output_type": "stream",
     "text": [
      "11/11 [==============================] - 1s 10ms/step\n"
     ]
    }
   ],
   "source": [
    "predictions = model.predict(X_val)\n",
    "pred_labels = label_encoder.inverse_transform(np.argmax(predictions, axis=1))\n",
    "\n",
    "val_df[\"etiqueta_predicha\"] = pred_labels\n",
    "\n",
    "# Guardar resultados\n",
    "val_df.to_csv(\"imagenes/memes_validacion_etiquetados.csv\", index=False)"
   ]
  },
  {
   "cell_type": "code",
   "execution_count": 43,
   "id": "4f261944",
   "metadata": {},
   "outputs": [
    {
     "name": "stdout",
     "output_type": "stream",
     "text": [
      "Epoch 1/10\n",
      "57/57 [==============================] - 2s 39ms/step - loss: 0.4606 - accuracy: 0.8829\n",
      "Epoch 2/10\n",
      "57/57 [==============================] - 2s 41ms/step - loss: 0.1748 - accuracy: 0.9547\n",
      "Epoch 3/10\n",
      "57/57 [==============================] - 2s 39ms/step - loss: 0.0721 - accuracy: 0.9840\n",
      "Epoch 4/10\n",
      "57/57 [==============================] - 2s 36ms/step - loss: 0.0295 - accuracy: 0.9950\n",
      "Epoch 5/10\n",
      "57/57 [==============================] - 2s 38ms/step - loss: 0.0169 - accuracy: 0.9950\n",
      "Epoch 6/10\n",
      "57/57 [==============================] - 2s 38ms/step - loss: 0.0069 - accuracy: 1.0000\n",
      "Epoch 7/10\n",
      "57/57 [==============================] - 2s 36ms/step - loss: 0.0039 - accuracy: 1.0000\n",
      "Epoch 8/10\n",
      "57/57 [==============================] - 2s 35ms/step - loss: 0.0062 - accuracy: 0.9983\n",
      "Epoch 9/10\n",
      "57/57 [==============================] - 2s 38ms/step - loss: 0.0030 - accuracy: 1.0000\n",
      "Epoch 10/10\n",
      "57/57 [==============================] - 2s 38ms/step - loss: 0.0020 - accuracy: 1.0000\n"
     ]
    },
    {
     "data": {
      "text/plain": [
       "<keras.src.callbacks.History at 0x1d21c6845d0>"
      ]
     },
     "execution_count": 43,
     "metadata": {},
     "output_type": "execute_result"
    }
   ],
   "source": [
    "from sklearn.model_selection import train_test_split\n",
    "\n",
    "# Dividir explícitamente\n",
    "X_train_final, X_test, y_train_final, y_test = train_test_split(\n",
    "    X_train, y_train, test_size=0.2, random_state=42)\n",
    "\n",
    "# Reentrena el modelo con el nuevo conjunto\n",
    "model.fit(X_train_final, y_train_final, epochs=10, batch_size=32)"
   ]
  },
  {
   "cell_type": "code",
   "execution_count": 44,
   "id": "0391c0ee",
   "metadata": {},
   "outputs": [
    {
     "name": "stdout",
     "output_type": "stream",
     "text": [
      "15/15 [==============================] - 0s 11ms/step\n"
     ]
    },
    {
     "data": {
      "image/png": "[encoded data removed]",
      "text/plain": [
       "<Figure size 800x600 with 2 Axes>"
      ]
     },
     "metadata": {},
     "output_type": "display_data"
    }
   ],
   "source": [
    "from sklearn.metrics import confusion_matrix, classification_report\n",
    "import seaborn as sns\n",
    "import matplotlib.pyplot as plt\n",
    "\n",
    "# Predicción en X_test\n",
    "y_pred_probs = model.predict(X_test)\n",
    "y_pred = np.argmax(y_pred_probs, axis=1)\n",
    "\n",
    "# Etiquetas legibles\n",
    "labels = label_encoder.classes_\n",
    "\n",
    "# Matriz de confusión\n",
    "cm = confusion_matrix(y_test, y_pred)\n",
    "\n",
    "# Visualización\n",
    "plt.figure(figsize=(8,6))\n",
    "sns.heatmap(cm, annot=True, fmt=\"d\", cmap=\"Blues\", xticklabels=labels, yticklabels=labels)\n",
    "plt.xlabel(\"Etiqueta Predicha\")\n",
    "plt.ylabel(\"Etiqueta Verdadera\")\n",
    "plt.title(\"Matriz de Confusión\")\n",
    "plt.show()"
   ]
  },
  {
   "cell_type": "code",
   "execution_count": 46,
   "id": "82f2504a",
   "metadata": {},
   "outputs": [
    {
     "name": "stdout",
     "output_type": "stream",
     "text": [
      "1/1 [==============================] - 0s 29ms/step\n",
      "Etiqueta predicha: clasismo\n"
     ]
    }
   ],
   "source": [
    "def predecir_meme(texto, descripcion):\n",
    "    entrada = preprocess_text(texto + \" \" + descripcion)\n",
    "    secuencia = tokenizer.texts_to_sequences([entrada])\n",
    "    secuencia_pad = tf.keras.preprocessing.sequence.pad_sequences(secuencia, maxlen=max_len, padding='post')\n",
    "    pred = model.predict(secuencia_pad)\n",
    "    etiqueta = label_encoder.inverse_transform([np.argmax(pred)])\n",
    "    return etiqueta[0]\n",
    "\n",
    "# Ejemplo\n",
    "etiqueta = predecir_meme(\"Las mujeres no sirven para manejar\", \"Un automovil tras el resultado de un accidente de trafico, con el texto indicando que las mujeres no son aptas para conducir automoviles\")\n",
    "print(\"Etiqueta predicha:\", etiqueta)"
   ]
  },
  {
   "cell_type": "code",
   "execution_count": 47,
   "id": "e6176f69",
   "metadata": {},
   "outputs": [
    {
     "name": "stdout",
     "output_type": "stream",
     "text": [
      "1/1 [==============================] - 0s 145ms/step\n",
      "Etiqueta predicha: contenido inapropiado\n"
     ]
    }
   ],
   "source": [
    "etiqueta = predecir_meme(\"tan maricon vas a ser?\", \"En la imagen aparece Vegitto de Dragon Ball Z, en una pose y un gesto desafiante, señalando al espectador si es un cobarde empleando una expresion dirigida a alguien homosexual\")\n",
    "print(\"Etiqueta predicha:\", etiqueta)"
   ]
  }
 ],
 "metadata": {
  "kernelspec": {
   "display_name": "Python 3",
   "language": "python",
   "name": "python3"
  },
  "language_info": {
   "codemirror_mode": {
    "name": "ipython",
    "version": 3
   },
   "file_extension": ".py",
   "mimetype": "text/x-python",
   "name": "python",
   "nbconvert_exporter": "python",
   "pygments_lexer": "ipython3",
   "version": "3.11.5"
  }
 },
 "nbformat": 4,
 "nbformat_minor": 5
}
